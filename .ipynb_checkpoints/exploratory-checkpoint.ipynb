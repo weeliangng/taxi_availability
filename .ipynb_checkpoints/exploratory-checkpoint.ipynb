{
 "cells": [
  {
   "cell_type": "code",
   "execution_count": 1,
   "id": "161b416c-d12e-4672-87d7-5e4d0ce71b9e",
   "metadata": {},
   "outputs": [],
   "source": [
    "import psycopg\n",
    "import json"
   ]
  },
  {
   "cell_type": "code",
   "execution_count": 4,
   "id": "0b1b5a06-4fc3-4abe-8fa5-7d1d970327d6",
   "metadata": {},
   "outputs": [],
   "source": [
    "query = \"\"\"\n",
    "    CREATE TABLE cars (\n",
    "  brand VARCHAR(255),\n",
    "  model VARCHAR(255),\n",
    "  year INT\n",
    ");  \n",
    "        \"\"\""
   ]
  },
  {
   "cell_type": "code",
   "execution_count": 2,
   "id": "a9c1c473-6f2d-40d0-9ab3-6cb5dcc527a1",
   "metadata": {},
   "outputs": [],
   "source": [
    "def run_query(query, fetch_results = True):\n",
    "    with psycopg.connect(dbname='taxi_availability', user='myuser', password='mypassword', host='localhost', port='5432') as conn:\n",
    "        with conn.cursor() as cur:\n",
    "            cur.execute(query)\n",
    "            if fetch_results:\n",
    "                results = cur.fetchall()\n",
    "                return results"
   ]
  },
  {
   "cell_type": "code",
   "execution_count": 5,
   "id": "b22c9486-0910-497f-b45a-c3f3898deb0c",
   "metadata": {},
   "outputs": [
    {
     "ename": "DuplicateTable",
     "evalue": "relation \"cars\" already exists",
     "output_type": "error",
     "traceback": [
      "\u001b[1;31m---------------------------------------------------------------------------\u001b[0m",
      "\u001b[1;31mDuplicateTable\u001b[0m                            Traceback (most recent call last)",
      "Cell \u001b[1;32mIn[5], line 1\u001b[0m\n\u001b[1;32m----> 1\u001b[0m \u001b[43mcur\u001b[49m\u001b[38;5;241;43m.\u001b[39;49m\u001b[43mexecute\u001b[49m\u001b[43m(\u001b[49m\u001b[43msql\u001b[49m\u001b[43m)\u001b[49m\n",
      "File \u001b[1;32m~\\anaconda3\\envs\\taxi_availability\\Lib\\site-packages\\psycopg\\cursor.py:97\u001b[0m, in \u001b[0;36mCursor.execute\u001b[1;34m(self, query, params, prepare, binary)\u001b[0m\n\u001b[0;32m     93\u001b[0m         \u001b[38;5;28mself\u001b[39m\u001b[38;5;241m.\u001b[39m_conn\u001b[38;5;241m.\u001b[39mwait(\n\u001b[0;32m     94\u001b[0m             \u001b[38;5;28mself\u001b[39m\u001b[38;5;241m.\u001b[39m_execute_gen(query, params, prepare\u001b[38;5;241m=\u001b[39mprepare, binary\u001b[38;5;241m=\u001b[39mbinary)\n\u001b[0;32m     95\u001b[0m         )\n\u001b[0;32m     96\u001b[0m \u001b[38;5;28;01mexcept\u001b[39;00m e\u001b[38;5;241m.\u001b[39m_NO_TRACEBACK \u001b[38;5;28;01mas\u001b[39;00m ex:\n\u001b[1;32m---> 97\u001b[0m     \u001b[38;5;28;01mraise\u001b[39;00m ex\u001b[38;5;241m.\u001b[39mwith_traceback(\u001b[38;5;28;01mNone\u001b[39;00m)\n\u001b[0;32m     98\u001b[0m \u001b[38;5;28;01mreturn\u001b[39;00m \u001b[38;5;28mself\u001b[39m\n",
      "\u001b[1;31mDuplicateTable\u001b[0m: relation \"cars\" already exists"
     ]
    }
   ],
   "source": []
  },
  {
   "cell_type": "code",
   "execution_count": 8,
   "id": "de5c91d5-2572-4fa3-aae4-ebf8542cb4cb",
   "metadata": {},
   "outputs": [],
   "source": [
    "conn.commit()\n",
    "cur.close()\n",
    "conn.close()"
   ]
  },
  {
   "cell_type": "code",
   "execution_count": null,
   "id": "a314de2f-2d30-41cf-840c-8e7fd893a541",
   "metadata": {},
   "outputs": [],
   "source": []
  }
 ],
 "metadata": {
  "kernelspec": {
   "display_name": "Python 3 (ipykernel)",
   "language": "python",
   "name": "python3"
  },
  "language_info": {
   "codemirror_mode": {
    "name": "ipython",
    "version": 3
   },
   "file_extension": ".py",
   "mimetype": "text/x-python",
   "name": "python",
   "nbconvert_exporter": "python",
   "pygments_lexer": "ipython3",
   "version": "3.13.0"
  }
 },
 "nbformat": 4,
 "nbformat_minor": 5
}
