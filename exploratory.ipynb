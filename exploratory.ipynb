{
 "cells": [
  {
   "cell_type": "code",
   "execution_count": 109,
   "id": "161b416c-d12e-4672-87d7-5e4d0ce71b9e",
   "metadata": {},
   "outputs": [],
   "source": [
    "import psycopg\n",
    "import json\n",
    "from shapely.geometry import shape\n",
    "import pandas as pd"
   ]
  },
  {
   "cell_type": "code",
   "execution_count": 24,
   "id": "a9c1c473-6f2d-40d0-9ab3-6cb5dcc527a1",
   "metadata": {},
   "outputs": [],
   "source": [
    "def run_query(query, fetch_results = False):\n",
    "    with psycopg.connect(dbname='taxi_availability', user='myuser', password='mypassword', host='localhost', port='5432') as conn:\n",
    "        with conn.cursor() as cur:\n",
    "            cur.execute(query)\n",
    "            if fetch_results:\n",
    "                try:\n",
    "                    results = cur.fetchall()\n",
    "                    return results\n",
    "                except:\n",
    "                    print(\"Query does not produce any results\")"
   ]
  },
  {
   "cell_type": "code",
   "execution_count": 93,
   "id": "0b1b5a06-4fc3-4abe-8fa5-7d1d970327d6",
   "metadata": {},
   "outputs": [],
   "source": [
    "query = \"\"\"\n",
    "    CREATE TABLE IF NOT EXISTS taxi_availability (\n",
    "    timestamp timestamptz PRIMARY KEY,\n",
    "    geom GEOMETRY(MultiPoint, 4326),\n",
    "    taxi_count integer\n",
    ");  \n",
    "        \"\"\""
   ]
  },
  {
   "cell_type": "code",
   "execution_count": 94,
   "id": "a314de2f-2d30-41cf-840c-8e7fd893a541",
   "metadata": {},
   "outputs": [
    {
     "name": "stdout",
     "output_type": "stream",
     "text": [
      "Query does not produce any results\n"
     ]
    }
   ],
   "source": [
    "run_query(query, True)"
   ]
  },
  {
   "cell_type": "code",
   "execution_count": 95,
   "id": "737f980a-4b86-439b-8fc5-85d1ac855ad7",
   "metadata": {},
   "outputs": [],
   "source": [
    "with open(\"data/raw/taxi_availability_2024_12_31.json\", \"r\") as file:\n",
    "    taxi_availability_list = json.load(file)"
   ]
  },
  {
   "cell_type": "code",
   "execution_count": null,
   "id": "28d6d889-b7d5-40ed-97bc-0057dc9711c3",
   "metadata": {},
   "outputs": [],
   "source": []
  },
  {
   "cell_type": "code",
   "execution_count": 102,
   "id": "21eed9ed-6c68-4870-bfe7-c5b1b40e2812",
   "metadata": {},
   "outputs": [],
   "source": [
    "conn = psycopg.connect(dbname='taxi_availability', user='myuser', password='mypassword', host='localhost', port='5432')\n",
    "cur = conn.cursor()\n",
    "insert_query = \"INSERT INTO taxi_availability (timestamp, geom, taxi_count) VALUES (%s, ST_GeomFromText(%s, 4326), %s) \\\n",
    "                ON CONFLICT (timestamp) DO NOTHING;\"\n",
    "for taxi_availability in taxi_availability_list:\n",
    "    geometry = shape(taxi_availability[\"features\"][0][\"geometry\"])\n",
    "    timestamp = taxi_availability[\"features\"][0][\"properties\"][\"timestamp\"]\n",
    "    taxi_count = taxi_availability[\"features\"][0][\"properties\"][\"taxi_count\"]\n",
    "    cur.execute(insert_query, (timestamp, geometry.wkt, taxi_count))\n",
    "conn.commit()\n",
    "cur.close()\n",
    "conn.close()"
   ]
  },
  {
   "cell_type": "code",
   "execution_count": 120,
   "id": "d6bf4d64-421e-456e-9eec-0721d55d505c",
   "metadata": {},
   "outputs": [],
   "source": [
    "conn = psycopg.connect(\n",
    "    dbname=\"taxi_availability\", user=\"myuser\", password=\"mypassword\", host=\"localhost\", port=\"5432\")"
   ]
  },
  {
   "cell_type": "code",
   "execution_count": 121,
   "id": "2a6a55d8-1b43-46c4-b3f5-7671f5309f3c",
   "metadata": {},
   "outputs": [
    {
     "name": "stderr",
     "output_type": "stream",
     "text": [
      "C:\\Users\\User\\AppData\\Local\\Temp\\ipykernel_26396\\3614003795.py:1: UserWarning: pandas only supports SQLAlchemy connectable (engine/connection) or database string URI or sqlite3 DBAPI2 connection. Other DBAPI2 objects are not tested. Please consider using SQLAlchemy.\n",
      "  pd.read_sql(\"select timestamp ,ST_AsText(geom) from taxi_availability\", conn)\n"
     ]
    },
    {
     "data": {
      "text/html": [
       "<div>\n",
       "<style scoped>\n",
       "    .dataframe tbody tr th:only-of-type {\n",
       "        vertical-align: middle;\n",
       "    }\n",
       "\n",
       "    .dataframe tbody tr th {\n",
       "        vertical-align: top;\n",
       "    }\n",
       "\n",
       "    .dataframe thead th {\n",
       "        text-align: right;\n",
       "    }\n",
       "</style>\n",
       "<table border=\"1\" class=\"dataframe\">\n",
       "  <thead>\n",
       "    <tr style=\"text-align: right;\">\n",
       "      <th></th>\n",
       "      <th>timestamp</th>\n",
       "      <th>st_astext</th>\n",
       "    </tr>\n",
       "  </thead>\n",
       "  <tbody>\n",
       "    <tr>\n",
       "      <th>0</th>\n",
       "      <td>2024-12-30 16:00:36+00:00</td>\n",
       "      <td>MULTIPOINT((103.62857 1.30203),(103.64316 1.33...</td>\n",
       "    </tr>\n",
       "    <tr>\n",
       "      <th>1</th>\n",
       "      <td>2024-12-30 16:01:36+00:00</td>\n",
       "      <td>MULTIPOINT((103.62748 1.3026),(103.64316 1.334...</td>\n",
       "    </tr>\n",
       "    <tr>\n",
       "      <th>2</th>\n",
       "      <td>2024-12-30 16:02:36+00:00</td>\n",
       "      <td>MULTIPOINT((103.62751 1.30263),(103.64316 1.33...</td>\n",
       "    </tr>\n",
       "    <tr>\n",
       "      <th>3</th>\n",
       "      <td>2024-12-30 16:04:06+00:00</td>\n",
       "      <td>MULTIPOINT((103.62751 1.30263),(103.64316 1.33...</td>\n",
       "    </tr>\n",
       "    <tr>\n",
       "      <th>4</th>\n",
       "      <td>2024-12-30 16:05:36+00:00</td>\n",
       "      <td>MULTIPOINT((103.62751 1.30261),(103.64316 1.33...</td>\n",
       "    </tr>\n",
       "    <tr>\n",
       "      <th>...</th>\n",
       "      <td>...</td>\n",
       "      <td>...</td>\n",
       "    </tr>\n",
       "    <tr>\n",
       "      <th>2785</th>\n",
       "      <td>2024-12-30 14:51:32+00:00</td>\n",
       "      <td>MULTIPOINT((103.61943 1.27614),(103.63565 1.33...</td>\n",
       "    </tr>\n",
       "    <tr>\n",
       "      <th>2786</th>\n",
       "      <td>2024-12-30 14:52:32+00:00</td>\n",
       "      <td>MULTIPOINT((103.62051 1.2755),(103.63672 1.288...</td>\n",
       "    </tr>\n",
       "    <tr>\n",
       "      <th>2787</th>\n",
       "      <td>2024-12-30 14:53:32+00:00</td>\n",
       "      <td>MULTIPOINT((103.62051 1.2755),(103.63672 1.288...</td>\n",
       "    </tr>\n",
       "    <tr>\n",
       "      <th>2788</th>\n",
       "      <td>2024-12-30 14:54:33+00:00</td>\n",
       "      <td>MULTIPOINT((103.62239 1.27529),(103.63703 1.29...</td>\n",
       "    </tr>\n",
       "    <tr>\n",
       "      <th>2789</th>\n",
       "      <td>2024-12-30 14:55:03+00:00</td>\n",
       "      <td>MULTIPOINT((103.62239 1.27529),(103.63703 1.29...</td>\n",
       "    </tr>\n",
       "  </tbody>\n",
       "</table>\n",
       "<p>2790 rows × 2 columns</p>\n",
       "</div>"
      ],
      "text/plain": [
       "                     timestamp  \\\n",
       "0    2024-12-30 16:00:36+00:00   \n",
       "1    2024-12-30 16:01:36+00:00   \n",
       "2    2024-12-30 16:02:36+00:00   \n",
       "3    2024-12-30 16:04:06+00:00   \n",
       "4    2024-12-30 16:05:36+00:00   \n",
       "...                        ...   \n",
       "2785 2024-12-30 14:51:32+00:00   \n",
       "2786 2024-12-30 14:52:32+00:00   \n",
       "2787 2024-12-30 14:53:32+00:00   \n",
       "2788 2024-12-30 14:54:33+00:00   \n",
       "2789 2024-12-30 14:55:03+00:00   \n",
       "\n",
       "                                              st_astext  \n",
       "0     MULTIPOINT((103.62857 1.30203),(103.64316 1.33...  \n",
       "1     MULTIPOINT((103.62748 1.3026),(103.64316 1.334...  \n",
       "2     MULTIPOINT((103.62751 1.30263),(103.64316 1.33...  \n",
       "3     MULTIPOINT((103.62751 1.30263),(103.64316 1.33...  \n",
       "4     MULTIPOINT((103.62751 1.30261),(103.64316 1.33...  \n",
       "...                                                 ...  \n",
       "2785  MULTIPOINT((103.61943 1.27614),(103.63565 1.33...  \n",
       "2786  MULTIPOINT((103.62051 1.2755),(103.63672 1.288...  \n",
       "2787  MULTIPOINT((103.62051 1.2755),(103.63672 1.288...  \n",
       "2788  MULTIPOINT((103.62239 1.27529),(103.63703 1.29...  \n",
       "2789  MULTIPOINT((103.62239 1.27529),(103.63703 1.29...  \n",
       "\n",
       "[2790 rows x 2 columns]"
      ]
     },
     "execution_count": 121,
     "metadata": {},
     "output_type": "execute_result"
    }
   ],
   "source": [
    "pd.read_sql(\"select timestamp ,ST_AsText(geom) from taxi_availability\", conn)"
   ]
  },
  {
   "cell_type": "code",
   "execution_count": 122,
   "id": "05ddf36e-dc18-42a7-a573-eb8d9b6a9a4f",
   "metadata": {},
   "outputs": [
    {
     "name": "stderr",
     "output_type": "stream",
     "text": [
      "C:\\Users\\User\\AppData\\Local\\Temp\\ipykernel_26396\\3468043148.py:1: UserWarning: pandas only supports SQLAlchemy connectable (engine/connection) or database string URI or sqlite3 DBAPI2 connection. Other DBAPI2 objects are not tested. Please consider using SQLAlchemy.\n",
      "  pd.read_sql(\"select count(*) from taxi_availability\", conn)\n"
     ]
    },
    {
     "data": {
      "text/html": [
       "<div>\n",
       "<style scoped>\n",
       "    .dataframe tbody tr th:only-of-type {\n",
       "        vertical-align: middle;\n",
       "    }\n",
       "\n",
       "    .dataframe tbody tr th {\n",
       "        vertical-align: top;\n",
       "    }\n",
       "\n",
       "    .dataframe thead th {\n",
       "        text-align: right;\n",
       "    }\n",
       "</style>\n",
       "<table border=\"1\" class=\"dataframe\">\n",
       "  <thead>\n",
       "    <tr style=\"text-align: right;\">\n",
       "      <th></th>\n",
       "      <th>count</th>\n",
       "    </tr>\n",
       "  </thead>\n",
       "  <tbody>\n",
       "    <tr>\n",
       "      <th>0</th>\n",
       "      <td>2790</td>\n",
       "    </tr>\n",
       "  </tbody>\n",
       "</table>\n",
       "</div>"
      ],
      "text/plain": [
       "   count\n",
       "0   2790"
      ]
     },
     "execution_count": 122,
     "metadata": {},
     "output_type": "execute_result"
    }
   ],
   "source": [
    "pd.read_sql(\"select count(*) from taxi_availability\", conn)"
   ]
  },
  {
   "cell_type": "code",
   "execution_count": null,
   "id": "ba833cb8-ddc5-4182-afec-505922abe1cc",
   "metadata": {},
   "outputs": [],
   "source": []
  }
 ],
 "metadata": {
  "kernelspec": {
   "display_name": "Python 3 (ipykernel)",
   "language": "python",
   "name": "python3"
  },
  "language_info": {
   "codemirror_mode": {
    "name": "ipython",
    "version": 3
   },
   "file_extension": ".py",
   "mimetype": "text/x-python",
   "name": "python",
   "nbconvert_exporter": "python",
   "pygments_lexer": "ipython3",
   "version": "3.13.0"
  }
 },
 "nbformat": 4,
 "nbformat_minor": 5
}
